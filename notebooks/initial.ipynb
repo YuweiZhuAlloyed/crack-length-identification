{
 "cells": [
  {
   "cell_type": "code",
   "execution_count": 1,
   "id": "6d8303c7",
   "metadata": {},
   "outputs": [
    {
     "name": "stdout",
     "output_type": "stream",
     "text": [
      "PyTorch version: 2.9.0+cpu\n",
      "Torchvision version: 0.24.0+cpu\n",
      "CUDA is available: False\n"
     ]
    }
   ],
   "source": [
    "import torch\n",
    "import torchvision\n",
    "print(\"PyTorch version:\", torch.__version__)\n",
    "print(\"Torchvision version:\", torchvision.__version__)\n",
    "print(\"CUDA is available:\", torch.cuda.is_available())"
   ]
  },
  {
   "cell_type": "code",
   "execution_count": 2,
   "id": "d3ac2642",
   "metadata": {},
   "outputs": [],
   "source": [
    "import numpy as np\n",
    "import torch\n",
    "import matplotlib.pyplot as plt\n",
    "import cv2"
   ]
  },
  {
   "cell_type": "code",
   "execution_count": 3,
   "id": "9e1e7990",
   "metadata": {},
   "outputs": [],
   "source": [
    "def show_mask(mask, ax, random_color=False):\n",
    "    if random_color:\n",
    "        color = np.concatenate([np.random.random(3), np.array([0.6])], axis=0)\n",
    "    else:\n",
    "        color = np.array([30/255, 144/255, 255/255, 0.6])\n",
    "    h, w = mask.shape[-2:]\n",
    "    mask_image = mask.reshape(h, w, 1) * color.reshape(1, 1, -1)\n",
    "    ax.imshow(mask_image)\n",
    "    \n",
    "def show_points(coords, labels, ax, marker_size=375):\n",
    "    pos_points = coords[labels==1]\n",
    "    neg_points = coords[labels==0]\n",
    "    ax.scatter(pos_points[:, 0], pos_points[:, 1], color='green', marker='*', s=marker_size, edgecolor='white', linewidth=1.25)\n",
    "    ax.scatter(neg_points[:, 0], neg_points[:, 1], color='red', marker='*', s=marker_size, edgecolor='white', linewidth=1.25)   \n",
    "    \n",
    "def show_box(box, ax):\n",
    "    x0, y0 = box[0], box[1]\n",
    "    w, h = box[2] - box[0], box[3] - box[1]\n",
    "    ax.add_patch(plt.Rectangle((x0, y0), w, h, edgecolor='green', facecolor=(0,0,0,0), lw=2))    \n",
    "\n",
    "def show_anns(anns):\n",
    "    if len(anns) == 0:\n",
    "        return\n",
    "    sorted_anns = sorted(anns, key=(lambda x: x['area']), reverse=True)\n",
    "    ax = plt.gca()\n",
    "    ax.set_autoscale_on(False)\n",
    "\n",
    "    img = np.ones((sorted_anns[0]['segmentation'].shape[0], sorted_anns[0]['segmentation'].shape[1], 4))\n",
    "    img[:,:,3] = 0\n",
    "    for ann in sorted_anns:\n",
    "        m = ann['segmentation']\n",
    "        color_mask = np.concatenate([np.random.random(3), [0.35]])\n",
    "        img[m] = color_mask\n",
    "    ax.imshow(img)"
   ]
  },
  {
   "cell_type": "code",
   "execution_count": 4,
   "id": "1e9d410c",
   "metadata": {},
   "outputs": [
    {
     "name": "stderr",
     "output_type": "stream",
     "text": [
      "/home/vscode/.local/lib/python3.11/site-packages/timm/models/layers/__init__.py:48: FutureWarning: Importing from timm.models.layers is deprecated, please import via timm.layers\n",
      "  warnings.warn(f\"Importing from {__name__} is deprecated, please import via timm.layers\", FutureWarning)\n",
      "/home/vscode/.local/lib/python3.11/site-packages/timm/models/registry.py:4: FutureWarning: Importing from timm.models.registry is deprecated, please import via timm.models\n",
      "  warnings.warn(f\"Importing from {__name__} is deprecated, please import via timm.models\", FutureWarning)\n",
      "/app/sam-hq/segment_anything/modeling/tiny_vit_sam.py:662: UserWarning: Overwriting tiny_vit_5m_224 in registry with segment_anything.modeling.tiny_vit_sam.tiny_vit_5m_224. This is because the name being registered conflicts with an existing name. Please check if this is not expected.\n",
      "  return register_model(fn_wrapper)\n",
      "/app/sam-hq/segment_anything/modeling/tiny_vit_sam.py:662: UserWarning: Overwriting tiny_vit_11m_224 in registry with segment_anything.modeling.tiny_vit_sam.tiny_vit_11m_224. This is because the name being registered conflicts with an existing name. Please check if this is not expected.\n",
      "  return register_model(fn_wrapper)\n",
      "/app/sam-hq/segment_anything/modeling/tiny_vit_sam.py:662: UserWarning: Overwriting tiny_vit_21m_224 in registry with segment_anything.modeling.tiny_vit_sam.tiny_vit_21m_224. This is because the name being registered conflicts with an existing name. Please check if this is not expected.\n",
      "  return register_model(fn_wrapper)\n",
      "/app/sam-hq/segment_anything/modeling/tiny_vit_sam.py:662: UserWarning: Overwriting tiny_vit_21m_384 in registry with segment_anything.modeling.tiny_vit_sam.tiny_vit_21m_384. This is because the name being registered conflicts with an existing name. Please check if this is not expected.\n",
      "  return register_model(fn_wrapper)\n",
      "/app/sam-hq/segment_anything/modeling/tiny_vit_sam.py:662: UserWarning: Overwriting tiny_vit_21m_512 in registry with segment_anything.modeling.tiny_vit_sam.tiny_vit_21m_512. This is because the name being registered conflicts with an existing name. Please check if this is not expected.\n",
      "  return register_model(fn_wrapper)\n"
     ]
    },
    {
     "name": "stdout",
     "output_type": "stream",
     "text": [
      "<All keys matched successfully>\n"
     ]
    }
   ],
   "source": [
    "from segment_anything import sam_model_registry, SamPredictor\n",
    "\n",
    "sam_checkpoint = \"../models/sam_hq_vit_l.pth\"\n",
    "model_type = \"vit_l\"\n",
    "sam = sam_model_registry[model_type](checkpoint=sam_checkpoint)\n",
    "predictor = SamPredictor(sam)\n",
    "\n",
    "\n",
    "input_path = \"../data/stitched_images/stitched_111.jpg\"\n",
    "\n",
    "image = cv2.imread(input_path, cv2.IMREAD_GRAYSCALE)\n",
    "image = cv2.equalizeHist(image)\n",
    "image = cv2.medianBlur(image, 39)\n",
    "image = cv2.cvtColor(image, cv2.COLOR_GRAY2RGB)\n",
    "predictor.set_image(image)\n",
    "\n",
    "input_box = np.array([950, 1000, 1450, 5000])\n",
    "\n",
    "masks, _, _ = predictor.predict(\n",
    "    point_coords=np.array([[1200, 1000]]),\n",
    "    point_labels=np.array([1]),\n",
    "    box=input_box[None, :],\n",
    "    multimask_output=False,\n",
    ")\n",
    "\n",
    "mask = masks[0]"
   ]
  },
  {
   "cell_type": "code",
   "execution_count": 5,
   "id": "81cbcf20",
   "metadata": {},
   "outputs": [
    {
     "data": {
      "image/png": "[encoded data removed]",
      "text/plain": [
       "<Figure size 640x480 with 1 Axes>"
      ]
     },
     "metadata": {},
     "output_type": "display_data"
    }
   ],
   "source": [
    "plt.figure()\n",
    "plt.imshow(mask)\n",
    "plt.show()"
   ]
  },
  {
   "cell_type": "code",
   "execution_count": 6,
   "id": "a33aeb25",
   "metadata": {},
   "outputs": [
    {
     "data": {
      "text/plain": [
       "array([[0, 0, 0, ..., 0, 0, 0],\n",
       "       [0, 0, 0, ..., 0, 0, 0],\n",
       "       [0, 0, 0, ..., 0, 0, 0],\n",
       "       ...,\n",
       "       [0, 0, 0, ..., 0, 0, 0],\n",
       "       [0, 0, 0, ..., 0, 0, 0],\n",
       "       [0, 0, 0, ..., 0, 0, 0]], shape=(6574, 2464), dtype=uint8)"
      ]
     },
     "execution_count": 6,
     "metadata": {},
     "output_type": "execute_result"
    }
   ],
   "source": [
    "contours, _ = cv2.findContours(mask.astype(np.uint8), cv2.RETR_EXTERNAL, cv2.CHAIN_APPROX_SIMPLE)\n",
    "largest_contour = max(contours, key=cv2.contourArea)\n",
    "largest_mask = np.zeros_like(mask, dtype=np.uint8)\n",
    "cv2.drawContours(largest_mask, [largest_contour], -1, 255, thickness=cv2.FILLED)"
   ]
  },
  {
   "cell_type": "code",
   "execution_count": 25,
   "id": "6c1da4e3",
   "metadata": {},
   "outputs": [
    {
     "data": {
      "text/html": [
       "<div><style>\n",
       ".dataframe > thead > tr,\n",
       ".dataframe > tbody > tr {\n",
       "  text-align: right;\n",
       "  white-space: pre-wrap;\n",
       "}\n",
       "</style>\n",
       "<small>shape: (132, 11)</small><table border=\"1\" class=\"dataframe\"><thead><tr><th>image_name</th><th>num</th><th>seg_confidence</th><th>crack_length_mm</th><th>actual_length</th><th>actual_crack_length_mm</th><th></th><th>_duplicated_0</th><th>_duplicated_1</th><th>_duplicated_2</th><th>_duplicated_3</th></tr><tr><td>str</td><td>i64</td><td>f64</td><td>f64</td><td>f64</td><td>f64</td><td>str</td><td>str</td><td>str</td><td>i64</td><td>f64</td></tr></thead><tbody><tr><td>&quot;stitched_10.jpg&quot;</td><td>10</td><td>0.892305</td><td>4.37</td><td>5.13</td><td>5.13</td><td>null</td><td>null</td><td>null</td><td>1</td><td>7.054</td></tr><tr><td>&quot;stitched_100.jpg&quot;</td><td>100</td><td>0.827452</td><td>2.82</td><td>2.67</td><td>2.67</td><td>null</td><td>null</td><td>null</td><td>2</td><td>8.87</td></tr><tr><td>&quot;stitched_101.jpg&quot;</td><td>101</td><td>0.628906</td><td>3.24</td><td>3.434</td><td>3.434</td><td>null</td><td>null</td><td>null</td><td>3</td><td>3.039</td></tr><tr><td>&quot;stitched_102.jpg&quot;</td><td>102</td><td>0.880921</td><td>2.29</td><td>2.649</td><td>2.649</td><td>null</td><td>null</td><td>null</td><td>4</td><td>2.587</td></tr><tr><td>&quot;stitched_103.jpg&quot;</td><td>103</td><td>0.879446</td><td>2.93</td><td>3.591</td><td>3.591</td><td>null</td><td>null</td><td>null</td><td>5</td><td>3.296</td></tr><tr><td>&hellip;</td><td>&hellip;</td><td>&hellip;</td><td>&hellip;</td><td>&hellip;</td><td>&hellip;</td><td>&hellip;</td><td>&hellip;</td><td>&hellip;</td><td>&hellip;</td><td>&hellip;</td></tr><tr><td>null</td><td>null</td><td>null</td><td>null</td><td>null</td><td>null</td><td>null</td><td>null</td><td>null</td><td>128</td><td>4.072</td></tr><tr><td>null</td><td>null</td><td>null</td><td>null</td><td>null</td><td>null</td><td>null</td><td>null</td><td>null</td><td>129</td><td>3.849</td></tr><tr><td>null</td><td>null</td><td>null</td><td>null</td><td>null</td><td>null</td><td>null</td><td>null</td><td>null</td><td>130</td><td>2.79</td></tr><tr><td>null</td><td>null</td><td>null</td><td>null</td><td>null</td><td>null</td><td>null</td><td>null</td><td>null</td><td>131</td><td>7.351</td></tr><tr><td>null</td><td>null</td><td>null</td><td>null</td><td>null</td><td>null</td><td>null</td><td>null</td><td>null</td><td>132</td><td>12.204</td></tr></tbody></table></div>"
      ],
      "text/plain": [
       "shape: (132, 11)\n",
       "┌────────────┬──────┬────────────┬────────────┬───┬────────────┬───────────┬───────────┬───────────┐\n",
       "│ image_name ┆ num  ┆ seg_confid ┆ crack_leng ┆ … ┆ _duplicate ┆ _duplicat ┆ _duplicat ┆ _duplicat │\n",
       "│ ---        ┆ ---  ┆ ence       ┆ th_mm      ┆   ┆ d_0        ┆ ed_1      ┆ ed_2      ┆ ed_3      │\n",
       "│ str        ┆ i64  ┆ ---        ┆ ---        ┆   ┆ ---        ┆ ---       ┆ ---       ┆ ---       │\n",
       "│            ┆      ┆ f64        ┆ f64        ┆   ┆ str        ┆ str       ┆ i64       ┆ f64       │\n",
       "╞════════════╪══════╪════════════╪════════════╪═══╪════════════╪═══════════╪═══════════╪═══════════╡\n",
       "│ stitched_1 ┆ 10   ┆ 0.892305   ┆ 4.37       ┆ … ┆ null       ┆ null      ┆ 1         ┆ 7.054     │\n",
       "│ 0.jpg      ┆      ┆            ┆            ┆   ┆            ┆           ┆           ┆           │\n",
       "│ stitched_1 ┆ 100  ┆ 0.827452   ┆ 2.82       ┆ … ┆ null       ┆ null      ┆ 2         ┆ 8.87      │\n",
       "│ 00.jpg     ┆      ┆            ┆            ┆   ┆            ┆           ┆           ┆           │\n",
       "│ stitched_1 ┆ 101  ┆ 0.628906   ┆ 3.24       ┆ … ┆ null       ┆ null      ┆ 3         ┆ 3.039     │\n",
       "│ 01.jpg     ┆      ┆            ┆            ┆   ┆            ┆           ┆           ┆           │\n",
       "│ stitched_1 ┆ 102  ┆ 0.880921   ┆ 2.29       ┆ … ┆ null       ┆ null      ┆ 4         ┆ 2.587     │\n",
       "│ 02.jpg     ┆      ┆            ┆            ┆   ┆            ┆           ┆           ┆           │\n",
       "│ stitched_1 ┆ 103  ┆ 0.879446   ┆ 2.93       ┆ … ┆ null       ┆ null      ┆ 5         ┆ 3.296     │\n",
       "│ 03.jpg     ┆      ┆            ┆            ┆   ┆            ┆           ┆           ┆           │\n",
       "│ …          ┆ …    ┆ …          ┆ …          ┆ … ┆ …          ┆ …         ┆ …         ┆ …         │\n",
       "│ null       ┆ null ┆ null       ┆ null       ┆ … ┆ null       ┆ null      ┆ 128       ┆ 4.072     │\n",
       "│ null       ┆ null ┆ null       ┆ null       ┆ … ┆ null       ┆ null      ┆ 129       ┆ 3.849     │\n",
       "│ null       ┆ null ┆ null       ┆ null       ┆ … ┆ null       ┆ null      ┆ 130       ┆ 2.79      │\n",
       "│ null       ┆ null ┆ null       ┆ null       ┆ … ┆ null       ┆ null      ┆ 131       ┆ 7.351     │\n",
       "│ null       ┆ null ┆ null       ┆ null       ┆ … ┆ null       ┆ null      ┆ 132       ┆ 12.204    │\n",
       "└────────────┴──────┴────────────┴────────────┴───┴────────────┴───────────┴───────────┴───────────┘"
      ]
     },
     "execution_count": 25,
     "metadata": {},
     "output_type": "execute_result"
    }
   ],
   "source": [
    "import polars as pl\n",
    "\n",
    "path = '../data/final_est/agg_results.csv'\n",
    "\n",
    "df = pl.read_csv(path)\n",
    "\n",
    "df"
   ]
  },
  {
   "cell_type": "code",
   "execution_count": 26,
   "id": "a07e94a7",
   "metadata": {},
   "outputs": [],
   "source": [
    "df = df.filter(\n",
    "    (pl.col('actual_crack_length_mm').is_not_null()) &\n",
    "    (pl.col('seg_confidence') > 0.6)\n",
    ")"
   ]
  },
  {
   "cell_type": "code",
   "execution_count": 27,
   "id": "d5c90532",
   "metadata": {},
   "outputs": [],
   "source": [
    "df = df.with_columns(\n",
    "    (np.abs(1 - (pl.col('crack_length_mm') / pl.col('actual_crack_length_mm')))).alias('percentage_error')\n",
    ")"
   ]
  },
  {
   "cell_type": "code",
   "execution_count": 36,
   "id": "a6114c66",
   "metadata": {},
   "outputs": [
    {
     "data": {
      "text/html": [
       "<div><style>\n",
       ".dataframe > thead > tr,\n",
       ".dataframe > tbody > tr {\n",
       "  text-align: right;\n",
       "  white-space: pre-wrap;\n",
       "}\n",
       "</style>\n",
       "<small>shape: (9, 12)</small><table border=\"1\" class=\"dataframe\"><thead><tr><th>image_name</th><th>num</th><th>seg_confidence</th><th>crack_length_mm</th><th>actual_length</th><th>actual_crack_length_mm</th><th></th><th>_duplicated_0</th><th>_duplicated_1</th><th>_duplicated_2</th><th>_duplicated_3</th><th>percentage_error</th></tr><tr><td>str</td><td>i64</td><td>f64</td><td>f64</td><td>f64</td><td>f64</td><td>str</td><td>str</td><td>str</td><td>i64</td><td>f64</td><td>f64</td></tr></thead><tbody><tr><td>&quot;stitched_105.jpg&quot;</td><td>105</td><td>0.631071</td><td>12.57</td><td>3.818</td><td>3.818</td><td>null</td><td>null</td><td>null</td><td>7</td><td>4.1</td><td>2.2923</td></tr><tr><td>&quot;stitched_96.jpg&quot;</td><td>96</td><td>0.734529</td><td>3.58</td><td>1.227</td><td>1.227</td><td>null</td><td>null</td><td>null</td><td>112</td><td>3.565</td><td>1.917685</td></tr><tr><td>&quot;stitched_47.jpg&quot;</td><td>47</td><td>0.655971</td><td>0.0</td><td>2.662</td><td>2.662</td><td>null</td><td>null</td><td>null</td><td>63</td><td>4.553</td><td>1.0</td></tr><tr><td>&quot;stitched_7.jpg&quot;</td><td>7</td><td>0.890203</td><td>7.1</td><td>4.1</td><td>4.1</td><td>null</td><td>null</td><td>null</td><td>86</td><td>5.275</td><td>0.731707</td></tr><tr><td>&quot;stitched_5.jpg&quot;</td><td>5</td><td>0.911875</td><td>1.65</td><td>3.296</td><td>3.296</td><td>null</td><td>null</td><td>null</td><td>66</td><td>4.703</td><td>0.499393</td></tr><tr><td>&quot;stitched_45.jpg&quot;</td><td>45</td><td>0.809978</td><td>3.22</td><td>6.19</td><td>6.19</td><td>null</td><td>null</td><td>null</td><td>61</td><td>2.749</td><td>0.479806</td></tr><tr><td>&quot;stitched_53.jpg&quot;</td><td>53</td><td>0.676667</td><td>3.29</td><td>5.37</td><td>5.37</td><td>null</td><td>null</td><td>null</td><td>70</td><td>3.467</td><td>0.387337</td></tr><tr><td>&quot;stitched_88.jpg&quot;</td><td>88</td><td>0.893695</td><td>2.71</td><td>4.22</td><td>4.22</td><td>null</td><td>null</td><td>null</td><td>104</td><td>3.813</td><td>0.35782</td></tr><tr><td>&quot;stitched_63.jpg&quot;</td><td>63</td><td>0.837489</td><td>2.94</td><td>4.553</td><td>4.553</td><td>null</td><td>null</td><td>null</td><td>79</td><td>3.339</td><td>0.354272</td></tr></tbody></table></div>"
      ],
      "text/plain": [
       "shape: (9, 12)\n",
       "┌────────────┬─────┬────────────┬────────────┬───┬────────────┬────────────┬───────────┬───────────┐\n",
       "│ image_name ┆ num ┆ seg_confid ┆ crack_leng ┆ … ┆ _duplicate ┆ _duplicate ┆ _duplicat ┆ percentag │\n",
       "│ ---        ┆ --- ┆ ence       ┆ th_mm      ┆   ┆ d_1        ┆ d_2        ┆ ed_3      ┆ e_error   │\n",
       "│ str        ┆ i64 ┆ ---        ┆ ---        ┆   ┆ ---        ┆ ---        ┆ ---       ┆ ---       │\n",
       "│            ┆     ┆ f64        ┆ f64        ┆   ┆ str        ┆ i64        ┆ f64       ┆ f64       │\n",
       "╞════════════╪═════╪════════════╪════════════╪═══╪════════════╪════════════╪═══════════╪═══════════╡\n",
       "│ stitched_1 ┆ 105 ┆ 0.631071   ┆ 12.57      ┆ … ┆ null       ┆ 7          ┆ 4.1       ┆ 2.2923    │\n",
       "│ 05.jpg     ┆     ┆            ┆            ┆   ┆            ┆            ┆           ┆           │\n",
       "│ stitched_9 ┆ 96  ┆ 0.734529   ┆ 3.58       ┆ … ┆ null       ┆ 112        ┆ 3.565     ┆ 1.917685  │\n",
       "│ 6.jpg      ┆     ┆            ┆            ┆   ┆            ┆            ┆           ┆           │\n",
       "│ stitched_4 ┆ 47  ┆ 0.655971   ┆ 0.0        ┆ … ┆ null       ┆ 63         ┆ 4.553     ┆ 1.0       │\n",
       "│ 7.jpg      ┆     ┆            ┆            ┆   ┆            ┆            ┆           ┆           │\n",
       "│ stitched_7 ┆ 7   ┆ 0.890203   ┆ 7.1        ┆ … ┆ null       ┆ 86         ┆ 5.275     ┆ 0.731707  │\n",
       "│ .jpg       ┆     ┆            ┆            ┆   ┆            ┆            ┆           ┆           │\n",
       "│ stitched_5 ┆ 5   ┆ 0.911875   ┆ 1.65       ┆ … ┆ null       ┆ 66         ┆ 4.703     ┆ 0.499393  │\n",
       "│ .jpg       ┆     ┆            ┆            ┆   ┆            ┆            ┆           ┆           │\n",
       "│ stitched_4 ┆ 45  ┆ 0.809978   ┆ 3.22       ┆ … ┆ null       ┆ 61         ┆ 2.749     ┆ 0.479806  │\n",
       "│ 5.jpg      ┆     ┆            ┆            ┆   ┆            ┆            ┆           ┆           │\n",
       "│ stitched_5 ┆ 53  ┆ 0.676667   ┆ 3.29       ┆ … ┆ null       ┆ 70         ┆ 3.467     ┆ 0.387337  │\n",
       "│ 3.jpg      ┆     ┆            ┆            ┆   ┆            ┆            ┆           ┆           │\n",
       "│ stitched_8 ┆ 88  ┆ 0.893695   ┆ 2.71       ┆ … ┆ null       ┆ 104        ┆ 3.813     ┆ 0.35782   │\n",
       "│ 8.jpg      ┆     ┆            ┆            ┆   ┆            ┆            ┆           ┆           │\n",
       "│ stitched_6 ┆ 63  ┆ 0.837489   ┆ 2.94       ┆ … ┆ null       ┆ 79         ┆ 3.339     ┆ 0.354272  │\n",
       "│ 3.jpg      ┆     ┆            ┆            ┆   ┆            ┆            ┆           ┆           │\n",
       "└────────────┴─────┴────────────┴────────────┴───┴────────────┴────────────┴───────────┴───────────┘"
      ]
     },
     "execution_count": 36,
     "metadata": {},
     "output_type": "execute_result"
    }
   ],
   "source": [
    "df.filter(pl.col('percentage_error') > 0.35).sort(pl.col('percentage_error'), descending=True)"
   ]
  },
  {
   "cell_type": "code",
   "execution_count": 8,
   "id": "632d2956",
   "metadata": {},
   "outputs": [],
   "source": [
    "import matplotlib.pyplot as plt\n",
    "\n",
    "# plt.figure()\n",
    "# plt.scatter(df['actual_crack_length_mm'], df['crack_length_mm'])\n",
    "# plt.xlim(plt.xlim())\n",
    "# plt.ylim(plt.ylim())\n",
    "# plt.plot([0, 500], [0, 500], 'r--')\n",
    "# plt.show()"
   ]
  },
  {
   "cell_type": "code",
   "execution_count": 15,
   "id": "a727813d",
   "metadata": {},
   "outputs": [],
   "source": [
    "import numpy as np\n",
    "import matplotlib.pyplot as plt\n",
    "from scipy.stats import pearsonr\n",
    "from sklearn.linear_model import LinearRegression\n",
    "\n",
    "# Assuming df is your DataFrame with columns 'actual_crack_length_mm' and 'crack_length_mm'\n",
    "\n",
    "df = df.filter(\n",
    "    (pl.col('actual_crack_length_mm').is_not_null()) &\n",
    "    (pl.col('seg_confidence') > 0.7)\n",
    ")\n",
    "x = df['actual_crack_length_mm'].to_numpy()\n",
    "y = df['crack_length_mm'].to_numpy()\n",
    "conf = df['seg_confidence'].to_numpy()"
   ]
  },
  {
   "cell_type": "code",
   "execution_count": null,
   "id": "50db1502",
   "metadata": {},
   "outputs": [],
   "source": [
    "equal_line = np.linspace(0, 14, 100)\n",
    "lower = equal_line * 0.9\n",
    "upper = equal_line * 1.1\n",
    "\n",
    "corr, p_value = pearsonr(x, y)\n",
    "\n",
    "\n",
    "plt.figure(figsize=(8, 8))\n",
    "plt.scatter(x, y, c=conf, alpha=0.7, label='Data points')\n",
    "plt.fill_between(equal_line, lower, upper, color='blue', alpha=0.3, label='±10% band')\n",
    "\n",
    "\n",
    "plt.xlabel('Actual Crack Length (mm)')\n",
    "plt.ylabel('Predicted Crack Length (mm)')\n",
    "plt.title(f'Actual vs Predicted Crack Length\\nPearson r = {corr:.3f}')\n",
    "plt.grid(True)\n",
    "plt.axis('equal')\n",
    "plt.colorbar(label='Segmentation Confidence')\n",
    "plt.legend()\n",
    "plt.tight_layout()\n",
    "plt.show()"
   ]
  }
 ],
 "metadata": {
  "kernelspec": {
   "display_name": "Python 3",
   "language": "python",
   "name": "python3"
  },
  "language_info": {
   "codemirror_mode": {
    "name": "ipython",
    "version": 3
   },
   "file_extension": ".py",
   "mimetype": "text/x-python",
   "name": "python",
   "nbconvert_exporter": "python",
   "pygments_lexer": "ipython3",
   "version": "3.11.13"
  }
 },
 "nbformat": 4,
 "nbformat_minor": 5
}
